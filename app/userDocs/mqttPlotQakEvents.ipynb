{
 "cells": [
  {
   "cell_type": "markdown",
   "metadata": {},
   "source": [
    "## mqttPlotQakEvents.py"
   ]
  },
  {
   "cell_type": "code",
   "execution_count": 8,
   "metadata": {},
   "outputs": [
    {
     "name": "stdout",
     "output_type": "stream",
     "text": [
      "connected to broker  localhost\n",
      "subscribing to unibo/qak/events\n",
      "collecting values; please wait ...\n",
      "evMsg= msg( androidSensor, event, android, none, androidSensor(gamerotation, 117.45268428834797, 0.23443770552422516, 0.2118973742318823), 556 ) msgnum= 0\n",
      "evMsg= msg( androidSensor, event, android, none, androidSensor(gamerotation, 117.45273892986133, 0.23328932660916388, 0.21680068966379776), 576 ) msgnum= 20\n",
      "evMsg= msg( androidSensor, event, android, none, androidSensor(gamerotation, 117.4524930430512, 0.24312381183820375, 0.21582816143943784), 596 ) msgnum= 40\n",
      "evMsg= msg( androidSensor, event, android, none, androidSensor(gamerotation, 117.45269794872631, 0.23566108311802436, 0.21859660252868798), 616 ) msgnum= 60\n"
     ]
    },
    {
     "data": {
      "image/png": "[encoded data removed]",
      "text/plain": [
       "<Figure size 432x288 with 1 Axes>"
      ]
     },
     "metadata": {
      "needs_background": "light"
     },
     "output_type": "display_data"
    },
    {
     "name": "stdout",
     "output_type": "stream",
     "text": [
      "bye\n"
     ]
    }
   ],
   "source": [
    "import time\n",
    "import paho.mqtt.client as paho\n",
    "import matplotlib.pyplot as plt\n",
    "\n",
    "brokerAddr=\"localhost\"\n",
    "duration = 30\n",
    "x        = []\n",
    "y        = []\n",
    "z        = []\n",
    "goon     = True\n",
    "msgnum   = 0 \n",
    "def on_message(client, userdata, message) :   #define callback\n",
    "    global msgnum,  x,y,z, goon\n",
    "    if not goon :\n",
    "        return\n",
    "    #msg(androidSensor,event,android,none,androidSensor(TYPE,X,Y,Z),MSGNUM)\n",
    "    #msg(g521,event, gyroSender, none, g521(TYPE,X,Y,Z),MSGNUM)\n",
    "    evMsg = str( message.payload.decode(\"utf-8\")  )\n",
    "    msgitems = evMsg.split(\",\")\n",
    "    if msgnum < 60  :\n",
    "        if msgnum % 20 == 0  :\n",
    "            print(\"evMsg=\", evMsg, \"msgnum=\", msgnum )\n",
    "        msgnum = msgnum + 1\n",
    "        x.append( float( msgitems[5] ) )\n",
    "        y.append( float( msgitems[6] ) )\n",
    "        vz = float( msgitems[7].split(')')[0] )\n",
    "        z.append( vz )\n",
    "    else  :\n",
    "        print(\"evMsg=\", evMsg, \"msgnum=\", msgnum )\n",
    "        plt.plot(list(x), color='red')\n",
    "        #plt.plot(list(y), color='green')\n",
    "        #plt.plot(list(z), color='blue')\n",
    "        plt.show()\n",
    "        goon = False\n",
    "        client.disconnect()\n",
    "    \n",
    "client= paho.Client(\"receiver\")      \n",
    "client.on_message=on_message            # Bind function to callback\n",
    "\n",
    "client.connect(brokerAddr)              #connect\n",
    "print(\"connected to broker \", brokerAddr)\n",
    "print(\"subscribing to unibo/qak/events\")\n",
    "client.subscribe(\"unibo/qak/events\")      #subscribe\n",
    "\n",
    "print(\"collecting values; please wait ...\" )\n",
    "client.loop_start()             #start loop to process received messages\n",
    "time.sleep(duration)\n",
    "client.disconnect()             #disconnect\n",
    "print(\"bye\")\n",
    "client.loop_stop()              #stop loop        \n"
   ]
  },
  {
   "cell_type": "code",
   "execution_count": null,
   "metadata": {},
   "outputs": [],
   "source": []
  }
 ],
 "metadata": {
  "kernelspec": {
   "display_name": "Python 3",
   "language": "python",
   "name": "python3"
  },
  "language_info": {
   "codemirror_mode": {
    "name": "ipython",
    "version": 3
   },
   "file_extension": ".py",
   "mimetype": "text/x-python",
   "name": "python",
   "nbconvert_exporter": "python",
   "pygments_lexer": "ipython3",
   "version": "3.7.3"
  }
 },
 "nbformat": 4,
 "nbformat_minor": 2
}
